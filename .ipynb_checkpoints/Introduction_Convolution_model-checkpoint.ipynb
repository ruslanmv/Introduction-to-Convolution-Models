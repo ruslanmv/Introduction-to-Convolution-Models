{
 "cells": [
  {
   "cell_type": "markdown",
   "id": "baa82b0a",
   "metadata": {},
   "source": [
    "# Introduction to Convolution Neural Networks \n",
    "## In Tensorflow, Keras and Pytorch"
   ]
  },
  {
   "cell_type": "markdown",
   "id": "b422ec1c",
   "metadata": {},
   "source": [
    "In order to choose or develop a neural network applied to any video game or any computer vision problem, or even any quantum physics problem. we have to understand the building blocks of a single Neural Network.\n",
    "\n",
    "In this blog tutorial we will to implement **convolutional (CONV)** and **pooling (POOL)** layers in numpy, Keras, Tensorflow and Pytorch\n",
    "\n",
    "The purpose of this notes is cover the basic aspects of Convolution and Pooling layers that will be used in a more complex neural networks.\n",
    "\n",
    "The notes were obtained  from the exercises  of the course Convolution Neural Networks by Prof. Andrew Ng from Stanford University.\n",
    "\n",
    "We will review them and **extend** it within **Tensorflow** , **Keras** and **Pytorch**. \n"
   ]
  },
  {
   "cell_type": "markdown",
   "id": "e3cafadd",
   "metadata": {},
   "source": [
    "## Introduction \n",
    "\n",
    "In order to understand the language of Neural Network in a propper way,  we will use the **Linear Algebra**, among the defintions what we will use are\n",
    "\n",
    "- Matrix\n",
    "- Matrix in Computer Vision\n",
    "- Multiplication of matrices\n",
    "- Convolutions\n",
    "\n",
    "### Matrix\n",
    "\n",
    "\n",
    "A matrix is a rectangular array of numbers, called the entries of the matrix. Matrices are subject to standard operations such as addition and multiplication.\n",
    "\n",
    "Given a matrix $\\mathbf{X}$ and matrix $\\mathbf{W}$ defined as"
   ]
  },
  {
   "cell_type": "markdown",
   "id": "ad9e1576",
   "metadata": {},
   "source": [
    "$\\mathbf{X}=\\begin{pmatrix}\n",
    " x_{11} & x_{12} & \\cdots & x_{1n} \\\\\n",
    " x_{21} & x_{22} & \\cdots & x_{2n} \\\\\n",
    "\\vdots & \\vdots & \\ddots & \\vdots \\\\\n",
    " x_{m1} & x_{m2} & \\cdots & x_{mn} \\\\\n",
    "\\end{pmatrix},\\quad\\mathbf{W}=\\begin{pmatrix}\n",
    " w_{11} & w_{12} & \\cdots & w_{1p} \\\\\n",
    " w_{21} & w_{22} & \\cdots & w_{2p} \\\\\n",
    "\\vdots & \\vdots & \\ddots & \\vdots \\\\\n",
    " w_{n1} & w_{n2} & \\cdots & w_{np} \\\\\n",
    "\\end{pmatrix}$\n",
    "\n",
    "The multiplication of two matrices $\\mathbf{X}\\mathbf{W}$ is defined as\n",
    "\n",
    "$\\mathbf{C}=\\begin{pmatrix}\n",
    " c_{11} & c_{12} & \\cdots & c_{1p} \\\\\n",
    " c_{21} & c_{22} & \\cdots & c_{2p} \\\\\n",
    "\\vdots & \\vdots & \\ddots & \\vdots \\\\\n",
    " c_{m1} & c_{m2} & \\cdots & c_{mp} \\\\\n",
    "\\end{pmatrix}$\n",
    "\n",
    "such that \n",
    "$ c_{ij} = x_{i1}w_{1j} + x_{i2}w_{2j} +\\cdots + x_{in}w_{nj}= \\sum_{k=1}^n x_{ik}w_{kj}, $"
   ]
  },
  {
   "cell_type": "markdown",
   "id": "0bf20148",
   "metadata": {},
   "source": [
    "### Matrix in Computer Vision\n",
    "\n",
    "There is a relation between matrices and digital images. A digital image in a computer is\n",
    "presented by pixels matrix. An image is an array, or a matrix, of square pixels (picture elements) arranged in\n",
    "columns and rows.\n",
    "\n",
    "\n",
    "A digital grayscale image is presented in the computer by pixels\n",
    "matrix. Each pixel of such image is presented by one matrix element – integer from the set\n",
    ". The numeric values in pixel presentation are uniformly changed from zero (black\n",
    "pixels) to 255 (white pixels).\n",
    "<img src=\"matrix.jpg\" >"
   ]
  },
  {
   "cell_type": "markdown",
   "id": "d9d8488e",
   "metadata": {},
   "source": [
    "\n",
    "## 1 - What is convolution\n",
    "The idea of convolution in Computer Vision is that some convolutions will change the image in such a way that certain features in the image get emphasized. \n",
    "<img src=\"conv0.jpg\" style=\"width:640px;height:300px;\">\n",
    "\n",
    "In **mathematics**,  convolution is a mathematical operation on two functions (f and g) that produces a third function $({\\displaystyle f*g})$ that expresses how the shape of one is modified by the other.\n",
    "\n",
    "\n",
    "Some features of convolution are similar to cross-correlation: for real-valued functions, of a continuous or discrete variable.\n",
    "\n",
    "\n",
    "<img src=\"conv1.png\" style=\"width:550px;height:400px;\">\n",
    "\n"
   ]
  },
  {
   "cell_type": "markdown",
   "id": "71f5e60c",
   "metadata": {},
   "source": [
    "The **mathematical convolution of a matrix**, x, with a filter w, for a valid position i,j is \n",
    "\n",
    "\n",
    "\n",
    "\\begin{equation}\n",
    "\\displaystyle\n",
    "(w * x)_{i,j}=\\sum_{l=0}^{k-1} \\sum_{m=0}^{k-1} w_{l,m}\\cdot x_{i-l,j-m}\n",
    "\\end{equation}\n",
    "\n",
    "\n"
   ]
  },
  {
   "cell_type": "markdown",
   "id": "cade15b8",
   "metadata": {},
   "source": [
    "<a name='2'></a>\n",
    "## 2 -  Building blocks \n",
    "\n",
    "The building block of a simple neural network are given by\n",
    "- Convolution functions, including:\n",
    "    - Zero Padding\n",
    "    - Convolve window \n",
    "    - Convolution forward\n",
    "    - Convolution backward \n",
    "- Pooling functions, including:\n",
    "    - Pooling forward\n",
    "    - Create mask \n",
    "    - Distribute value\n",
    "    - Pooling backward \n",
    "  \n",
    "We will use  Keras ,  Tensorflow , and Pytorch of these functions to build the following model:\n",
    "\n",
    "<img src=\"images/model.png\" style=\"width:800px;height:300px;\">\n",
    "\n",
    "**Note**: For every forward function, there is a corresponding backward equivalent. \n",
    "Hence, at every step of your forward module you will store some parameters in a cache. \n",
    "These parameters are used to compute gradients during backpropagation. "
   ]
  },
  {
   "cell_type": "markdown",
   "id": "0bc4b220",
   "metadata": {},
   "source": [
    "<a name='3'></a>\n",
    "## 3 - Convolutional Neural Networks\n",
    "\n",
    "A convolution layer transforms an input volume into an output volume of different size, as shown below. \n",
    "\n",
    "<img src=\"images/conv_nn.png\" style=\"width:350px;height:200px;\">\n",
    "\n",
    "We need to  build every step of the convolution layer. \n",
    "We will first implement two helper functions: one for zero padding and the other for computing the convolution function itself. "
   ]
  },
  {
   "cell_type": "markdown",
   "id": "063577e9",
   "metadata": {},
   "source": [
    "# What is Padding?"
   ]
  },
  {
   "cell_type": "markdown",
   "id": "b3c02e03",
   "metadata": {},
   "source": [
    "Convolutional layers induce spatial hierarchy. That is, generally speaking, they reduce the size of your input data for every layer the data passes through - allowing neural networks to learn both very specific and very abstract aspects of your input data."
   ]
  },
  {
   "cell_type": "markdown",
   "id": "74a2befe",
   "metadata": {},
   "source": [
    "However, sometimes you don't want this to happen: you want the size of your input data to stay the same. In that case, padding can help by adding zeros, constants or different numbers around the reduced input."
   ]
  },
  {
   "cell_type": "markdown",
   "id": "33bdae8e",
   "metadata": {},
   "source": [
    "\n",
    "### 3.1 - Zero-Padding\n",
    "\n",
    "Zero-padding adds zeros around the border of an image:\n",
    "\n",
    "<img src=\"images/PAD.png\" style=\"width:600px;height:400px;\">\n",
    "<caption><center> <u> <font color='purple'> <b>Figure 1</b> </u><font color='purple'>  : <b>Zero-Padding</b><br> Image (3 channels, RGB) with a padding of 2. </center></caption>\n",
    "\n",
    "The main benefits of padding are:\n",
    "\n",
    "   \n",
    "- **It allows you to use a CONV layer without necessarily shrinking the height and width of the volumes.**\n",
    "    \n",
    "    \n",
    "This is important for building deeper networks, since otherwise the height/width would shrink as you go to deeper layers.\n",
    "    \n",
    "\n",
    "An important special case is the \"same\" convolution, in which the height/width is exactly preserved after one layer. \n",
    "   \n",
    "   \n",
    "- **It helps us keep more of the information at the border of an image**. Without padding, very few values at the next layer would be affected by pixels at the edges of an image.\n"
   ]
  },
  {
   "cell_type": "markdown",
   "id": "83b2148b",
   "metadata": {},
   "source": [
    "## Zero Padding Function\n",
    "\n",
    "  \n",
    "Let us implement the following function, which pads all the images of a batch of examples X with zeros. [We use np.pad](https://docs.scipy.org/doc/numpy/reference/generated/numpy.pad.html).\n"
   ]
  },
  {
   "cell_type": "code",
   "execution_count": 1,
   "id": "df405420",
   "metadata": {},
   "outputs": [],
   "source": [
    "import numpy as np\n",
    "import h5py\n",
    "import matplotlib.pyplot as plt"
   ]
  },
  {
   "cell_type": "code",
   "execution_count": 2,
   "id": "baab24fe",
   "metadata": {},
   "outputs": [],
   "source": [
    "def zero_pad(X, pad):\n",
    "    \"\"\"\n",
    "    Pad with zeros all images of the dataset X. The padding is applied to the height and width of an image, \n",
    "    as illustrated in Figure 1.\n",
    "    \n",
    "    Argument:\n",
    "    X -- python numpy array of shape (m, n_H, n_W, n_C) representing a batch of m images\n",
    "    pad -- integer, amount of padding around each image on vertical and horizontal dimensions\n",
    "    \n",
    "    Returns:\n",
    "    X_pad -- padded image of shape (m, n_H + 2 * pad, n_W + 2 * pad, n_C)\n",
    "    \"\"\" \n",
    "    X_pad = np.pad(X, ((0, 0), (pad, pad), (pad, pad), (0, 0)), 'constant', constant_values=0)\n",
    "    return X_pad"
   ]
  },
  {
   "cell_type": "code",
   "execution_count": 3,
   "id": "73c79313",
   "metadata": {},
   "outputs": [
    {
     "name": "stdout",
     "output_type": "stream",
     "text": [
      "x.shape =\n",
      " (4, 3, 3, 2)\n",
      "x_pad.shape =\n",
      " (4, 9, 9, 2)\n",
      "x[1,1] =\n",
      " [[ 0.90085595 -0.68372786]\n",
      " [-0.12289023 -0.93576943]\n",
      " [-0.26788808  0.53035547]]\n",
      "x_pad[1,1] =\n",
      " [[0. 0.]\n",
      " [0. 0.]\n",
      " [0. 0.]\n",
      " [0. 0.]\n",
      " [0. 0.]\n",
      " [0. 0.]\n",
      " [0. 0.]\n",
      " [0. 0.]\n",
      " [0. 0.]]\n"
     ]
    },
    {
     "data": {
      "text/plain": [
       "<matplotlib.image.AxesImage at 0x2325a0db198>"
      ]
     },
     "execution_count": 3,
     "metadata": {},
     "output_type": "execute_result"
    },
    {
     "data": {
      "image/png": "[encoded data removed]",
      "text/plain": [
       "<Figure size 432x288 with 2 Axes>"
      ]
     },
     "metadata": {
      "needs_background": "light"
     },
     "output_type": "display_data"
    }
   ],
   "source": [
    "np.random.seed(1)\n",
    "x = np.random.randn(4, 3, 3, 2)\n",
    "x_pad = zero_pad(x, 3)\n",
    "print (\"x.shape =\\n\", x.shape)\n",
    "print (\"x_pad.shape =\\n\", x_pad.shape)\n",
    "print (\"x[1,1] =\\n\", x[1, 1])\n",
    "print (\"x_pad[1,1] =\\n\", x_pad[1, 1])\n",
    "\n",
    "fig, axarr = plt.subplots(1, 2)\n",
    "axarr[0].set_title('x')\n",
    "axarr[0].imshow(x[0, :, :, 0])\n",
    "axarr[1].set_title('x_pad')\n",
    "axarr[1].imshow(x_pad[0, :, :, 0])\n"
   ]
  },
  {
   "cell_type": "markdown",
   "id": "c16ae5e9",
   "metadata": {},
   "source": [
    "## Zero Padding in Tensorflow"
   ]
  },
  {
   "cell_type": "code",
   "execution_count": 4,
   "id": "6e550c46",
   "metadata": {},
   "outputs": [
    {
     "name": "stdout",
     "output_type": "stream",
     "text": [
      "Input:  tf.Tensor(\n",
      "[[1 2]\n",
      " [3 4]], shape=(2, 2), dtype=int32)\n",
      "Padding:  tf.Tensor(\n",
      "[[2 2]\n",
      " [2 2]], shape=(2, 2), dtype=int32)\n",
      "Res:  tf.Tensor(\n",
      "[[0 0 0 0 0 0]\n",
      " [0 0 0 0 0 0]\n",
      " [0 0 1 2 0 0]\n",
      " [0 0 3 4 0 0]\n",
      " [0 0 0 0 0 0]\n",
      " [0 0 0 0 0 0]], shape=(6, 6), dtype=int32)\n"
     ]
    }
   ],
   "source": [
    "# importing the library\n",
    "import tensorflow as tf\n",
    "\n",
    "# Initializing the Input\n",
    "input = tf.constant([[1, 2], [3, 4]])\n",
    "padding = tf.constant([[2, 2], [2, 2]])\n",
    "\n",
    "# Printing the Input\n",
    "print(\"Input: \", input)\n",
    "print(\"Padding: \", padding)\n",
    "\n",
    "# Generating padded Tensor\n",
    "res = tf.pad(input, padding, mode ='CONSTANT')\n",
    "\n",
    "# Printing the resulting Tensors\n",
    "print(\"Res: \", res )\n"
   ]
  },
  {
   "cell_type": "markdown",
   "id": "d71c5642",
   "metadata": {},
   "source": [
    "## Zero Padding in Keras\n"
   ]
  },
  {
   "cell_type": "code",
   "execution_count": 5,
   "id": "9773dd30",
   "metadata": {},
   "outputs": [
    {
     "name": "stdout",
     "output_type": "stream",
     "text": [
      "[[[[0 1]\n",
      "   [2 3]]]]\n"
     ]
    }
   ],
   "source": [
    "input_shape = (1, 1, 2, 2)\n",
    "x = np.arange(np.prod(input_shape)).reshape(input_shape)\n",
    "print(x)\n"
   ]
  },
  {
   "cell_type": "code",
   "execution_count": 6,
   "id": "b2d81f47",
   "metadata": {},
   "outputs": [],
   "source": [
    "y = tf.keras.layers.ZeroPadding2D(padding=1)(x)"
   ]
  },
  {
   "cell_type": "code",
   "execution_count": 7,
   "id": "d3489db2",
   "metadata": {},
   "outputs": [
    {
     "name": "stdout",
     "output_type": "stream",
     "text": [
      "tf.Tensor(\n",
      "[[[[0 0]\n",
      "   [0 0]\n",
      "   [0 0]\n",
      "   [0 0]]\n",
      "\n",
      "  [[0 0]\n",
      "   [0 1]\n",
      "   [2 3]\n",
      "   [0 0]]\n",
      "\n",
      "  [[0 0]\n",
      "   [0 0]\n",
      "   [0 0]\n",
      "   [0 0]]]], shape=(1, 3, 4, 2), dtype=int32)\n"
     ]
    }
   ],
   "source": [
    "print(y)"
   ]
  },
  {
   "cell_type": "markdown",
   "id": "7e6c2da3",
   "metadata": {},
   "source": [
    "## Zero Padding in Pytorch"
   ]
  },
  {
   "cell_type": "code",
   "execution_count": 8,
   "id": "8340c122",
   "metadata": {},
   "outputs": [
    {
     "name": "stdout",
     "output_type": "stream",
     "text": [
      "Input Tensor:\n",
      " tensor([[[1, 2],\n",
      "         [3, 4]]])\n",
      "Padded Tensor:\n",
      " tensor([[[0, 0, 0, 0, 0, 0],\n",
      "         [0, 0, 0, 0, 0, 0],\n",
      "         [0, 0, 1, 2, 0, 0],\n",
      "         [0, 0, 3, 4, 0, 0],\n",
      "         [0, 0, 0, 0, 0, 0],\n",
      "         [0, 0, 0, 0, 0, 0]]])\n"
     ]
    }
   ],
   "source": [
    "# Import the required library\n",
    "import torch\n",
    "import torch.nn as nn\n",
    "\n",
    "# define 3D tensor (C,H,W)\n",
    "input = torch.tensor([[[ 1, 2],[ 3, 4]]])\n",
    "print(\"Input Tensor:\\n\",input)\n",
    "\n",
    "# define padding same for all sides (left, right, top, bottom)\n",
    "pad = nn.ZeroPad2d(2)\n",
    "\n",
    "# pad the input tensor\n",
    "output = pad(input)\n",
    "print(\"Padded Tensor:\\n\", output)"
   ]
  },
  {
   "cell_type": "markdown",
   "id": "d1a69085",
   "metadata": {},
   "source": [
    "# What is convolution matrix or kernel?"
   ]
  },
  {
   "cell_type": "markdown",
   "id": "f660366a",
   "metadata": {},
   "source": [
    "<img src=\"kernel.png\" ><caption><center> <u> <font color='purple'> <b>Figure 2a</b> </u><font color='purple'>  : <b>Convolution operation</b><br> Convolution between an input image and a kernel </center></caption>"
   ]
  },
  {
   "cell_type": "markdown",
   "id": "584dba37",
   "metadata": {},
   "source": [
    " A kernel describes a filter that we are going to pass over an input image. To make it simple, the kernel will move over the whole image, from left to right, from top to bottom by applying a convolution product. The output of this operation is called a filtered image."
   ]
  },
  {
   "cell_type": "markdown",
   "id": "60d87833",
   "metadata": {},
   "source": [
    "   In image processing kernel is a convolution matrix or masks which can be used for blurring, sharpening, embossing, edge detection, and more by doing a convolution between a kernel and an image."
   ]
  },
  {
   "cell_type": "markdown",
   "id": "75f82b87",
   "metadata": {},
   "source": [
    "<a name='3-2'></a>\n",
    "### 3.2 - Single Step of Convolution \n",
    "\n",
    "In this part, implement a single step of convolution, in which you apply the filter to a single position of the input. \n",
    "\n",
    "This will be used to build a convolutional unit, which: \n",
    "\n",
    "- Takes an input volume \n",
    "- Applies a filter at every position of the input\n",
    "- Outputs another volume (usually of different size)\n",
    "\n",
    "<img src=\"images/Convolution_schematic.gif\" style=\"width:500px;height:300px;\">\n",
    "<caption><center> <u> <font color='purple'> <b>Figure 2b</b> </u><font color='purple'>  : <b>Convolution operation</b><br> with a filter of 3x3 and a stride of 1 (stride = amount you move the window each time you slide) </center></caption>\n",
    "\n",
    "In a computer vision application, each value in the matrix on the left corresponds to a single pixel value. You convolve a 3x3 filter with the image by multiplying its values element-wise with the original matrix, then summing them up and adding a bias.\n",
    "    \n",
    "We will implement a single step of convolution, corresponding to applying a filter to just one of the positions to get a single real-valued output. \n",
    "\n",
    "Later in this notebook, we will apply this function to multiple positions of the input to implement the full convolutional operation. \n",
    "<img src=\"conv.gif\" >\n",
    "    <caption><center> <u> <font color='purple'> <b>Figure 2c</b> </u><font color='purple'>  </caption>\n",
    "<a name='ex-2'></a>\n",
    "Example of a 3 by 3 convolution kernel filtering a 9 by 9 image. Then this kernel moves all over the image to capture in the image all squares of the same size (3 by 3). \n",
    "    \n",
    "### Convolution single step\n",
    "\n",
    "    \n"
   ]
  },
  {
   "cell_type": "code",
   "execution_count": 9,
   "id": "38c6d0cb",
   "metadata": {},
   "outputs": [],
   "source": [
    "def conv_single_step(a_slice_prev, W, b):\n",
    "    \"\"\"\n",
    "    Apply one filter defined by parameters W on a single slice (a_slice_prev) of the output activation \n",
    "    of the previous layer.\n",
    "    \n",
    "    Arguments:\n",
    "    a_slice_prev -- slice of input data of shape (f, f, n_C_prev)\n",
    "    W -- Weight parameters contained in a window - matrix of shape (f, f, n_C_prev)\n",
    "    b -- Bias parameters contained in a window - matrix of shape (1, 1, 1)\n",
    "    \n",
    "    Returns:\n",
    "    Z -- a scalar value, the result of convolving the sliding window (W, b) on a slice x of the input data\n",
    "    \"\"\"\n",
    "    # Element-wise product between a_slice_prev and W. Do not add the bias yet.\n",
    "    s = np.multiply(a_slice_prev, W) \n",
    "    # Sum over all entries of the volume s.\n",
    "    Z = np.sum(s)\n",
    "    # Add bias b to Z. Cast b to a float() so that Z results in a scalar value.\n",
    "    Z = Z + float(b)\n",
    "    return Z"
   ]
  },
  {
   "cell_type": "markdown",
   "id": "d61261f3",
   "metadata": {},
   "source": [
    "**Note**: The variable b will be passed in as a numpy array.  If you add a scalar (a float or integer) to a numpy array, the result is a numpy array.  In the special case of a numpy array containing a single value, you can cast it as a float to convert it to a scalar. [More info](https://docs.scipy.org/doc/numpy-1.13.0/reference/generated/numpy.sum.html)."
   ]
  },
  {
   "cell_type": "code",
   "execution_count": 10,
   "id": "4f26b4d1",
   "metadata": {},
   "outputs": [
    {
     "name": "stdout",
     "output_type": "stream",
     "text": [
      "Z = -6.999089450680221\n"
     ]
    }
   ],
   "source": [
    "np.random.seed(1)\n",
    "a_slice_prev = np.random.randn(4, 4, 3)\n",
    "W = np.random.randn(4, 4, 3)\n",
    "b = np.random.randn(1, 1, 1)\n",
    "Z = conv_single_step(a_slice_prev, W, b)\n",
    "print(\"Z =\", Z)\n"
   ]
  },
  {
   "cell_type": "markdown",
   "id": "bc14b279",
   "metadata": {},
   "source": [
    "What does convolving an image with a filter do? We can start by using the example 3x3 filter we’ve been using, which is commonly known as the vertical Sobel filter:\n",
    "\n",
    "\n",
    "<img src=\"vertical-sobel.svg\" >\n",
    "The vertical Sobel filter\n",
    "Here’s an example of what the vertical Sobel filter does:\n",
    "<img src=\"lena.webp\" >\n",
    "Lenna vertical\n",
    "An image convolved with the vertical Sobel filter"
   ]
  },
  {
   "cell_type": "markdown",
   "id": "50ede37e",
   "metadata": {},
   "source": [
    "<a name='3-3'></a>\n",
    "### 3.3 - Convolutional Neural Networks - Forward Pass\n",
    "\n",
    "In the forward pass, you will take many filters and convolve them on the input. Each 'convolution' gives you a 2D matrix output. You will then stack these outputs to get a 3D volume: \n",
    "<img src=\"images/conv_kiank.gif\" style=\"width:500px;height:300px;\">\n",
    "<caption><center> <u> <font color='purple'> <b>Figure 3</b> </u><font color='purple'>  : <b>How convolution works</b><br>  </center></caption>\n",
    "\n",
    "\n",
    "\n",
    "<a name='ex-3'></a>\n",
    "### Convolution forward\n",
    "Let us implement the function  to convolve the filters `W` on an input activation `A_prev`.  \n",
    "This function takes the following inputs:\n",
    "* `A_prev`, the activations output by the previous layer (for a batch of m inputs); \n",
    "* Weights are denoted by `W`.  The filter window size is `f` by `f`.\n",
    "* The bias vector is `b`, where each filter has its own (single) bias. \n",
    "\n",
    "\n",
    "To define a_slicew we will need to first define its corners `vert_start`, `vert_end`, `horiz_start` and `horiz_end`. \n",
    "This figure may be helpful for you to find out how each of the corners can be defined using h, w, f and s in the code below.\n",
    "<img src=\"images/vert_horiz_kiank.png\" style=\"width:400px;height:300px;\">\n",
    "<caption><center> <u> <font color='purple'> <b>Figure 3</b> </u><font color='purple'>  : <b>Definition of a slice using vertical and horizontal start/end (with a 2x2 filter)</b> <br> This figure shows only a single channel.  </center></caption>\n",
    "\n",
    "The formulas relating the output shape of the convolution to the input shape are:\n",
    "    \n",
    "$$n_H = \\Bigl\\lfloor \\frac{n_{H_{prev}} - f + 2 \\times pad}{stride} \\Bigr\\rfloor +1$$\n",
    "$$n_W = \\Bigl\\lfloor \\frac{n_{W_{prev}} - f + 2 \\times pad}{stride} \\Bigr\\rfloor +1$$\n",
    "$$n_C = \\text{number of filters used in the convolution}$$\n",
    "   "
   ]
  },
  {
   "cell_type": "code",
   "execution_count": 11,
   "id": "2dd23fdd",
   "metadata": {},
   "outputs": [],
   "source": [
    "def conv_forward(A_prev, W, b, hparameters):\n",
    "    \"\"\"\n",
    "    Implements the forward propagation for a convolution function\n",
    "    \n",
    "    Arguments:\n",
    "    A_prev -- output activations of the previous layer, \n",
    "        numpy array of shape (m, n_H_prev, n_W_prev, n_C_prev)\n",
    "    W -- Weights, numpy array of shape (f, f, n_C_prev, n_C)\n",
    "    b -- Biases, numpy array of shape (1, 1, 1, n_C)\n",
    "    hparameters -- python dictionary containing \"stride\" and \"pad\"\n",
    "        \n",
    "    Returns:\n",
    "    Z -- conv output, numpy array of shape (m, n_H, n_W, n_C)\n",
    "    cache -- cache of values needed for the conv_backward() function\n",
    "    \"\"\"\n",
    "    # Retrieve dimensions from A_prev's shape  \n",
    "    (m, n_H_prev, n_W_prev, n_C_prev) = A_prev.shape\n",
    "    \n",
    "    # Retrieve dimensions from W's shape \n",
    "    (f, f, n_C_prev, n_C) = W.shape\n",
    "    \n",
    "    # Retrieve information from \"hparameters\" \n",
    "    stride = hparameters['stride']\n",
    "    pad =  hparameters['pad']\n",
    "    \n",
    "    # Compute the dimensions of the CONV output volume using the formula given above. \n",
    "    # Hint: use int() to apply the 'floor' operation. \n",
    "    n_H = int((n_H_prev - f + 2 * pad) / stride) + 1\n",
    "    n_W = int((n_W_prev - f + 2 * pad) / stride) + 1\n",
    "    \n",
    "    # Initialize the output volume Z with zeros. \n",
    "    Z = np.zeros((m, n_H, n_W, n_C))\n",
    "    \n",
    "    # Create A_prev_pad by padding A_prev\n",
    "    A_prev_pad = zero_pad(A_prev, pad)\n",
    "    for i in range(m):               # loop over the batch of training examples\n",
    "        a_prev_pad = A_prev_pad[i]   # Select ith training example's padded activation\n",
    "        for h in range(n_H):         # loop over vertical axis of the output volume\n",
    "            # Find the vertical start and end of the current \"slice\" (≈2 lines)\n",
    "            vert_start = h * stride\n",
    "            vert_end = vert_start + f\n",
    "            for w in range(n_W):    # loop over horizontal axis of the output volume\n",
    "                # Find the horizontal start and end of the current \"slice\" (≈2 lines)\n",
    "                horiz_start = stride * w\n",
    "                horiz_end = stride * w + f\n",
    "                for c in range(n_C):   # loop over channels (= #filters) of the output volume\n",
    "                    #Use the corners to define the (3D) slice of a_prev_pad (See Hint above the cell). (≈1 line)\n",
    "                    a_slice_prev = a_prev_pad[vert_start:vert_end, horiz_start:horiz_end, :]\n",
    "                    # Convolve the (3D) slice with the correct filter W and bias b, to get back one output neuron. (≈3 line)\n",
    "                    weights = W[...,c]\n",
    "                    biases = b[...,c]\n",
    "                    Z[i, h, w, c] = conv_single_step(a_slice_prev,weights , biases) \n",
    "    \n",
    "    # Save information in \"cache\" for the backprop\n",
    "    cache = (A_prev, W, b, hparameters)\n",
    "    \n",
    "    return Z, cache"
   ]
  },
  {
   "cell_type": "code",
   "execution_count": 12,
   "id": "b063d289",
   "metadata": {},
   "outputs": [
    {
     "name": "stdout",
     "output_type": "stream",
     "text": [
      "Z's mean =\n",
      " 0.5511276474566768\n",
      "Z[0,2,1] =\n",
      " [-2.17796037  8.07171329 -0.5772704   3.36286738  4.48113645 -2.89198428\n",
      " 10.99288867  3.03171932]\n",
      "cache_conv[0][1][2][3] =\n",
      " [-1.1191154   1.9560789  -0.3264995  -1.34267579]\n"
     ]
    }
   ],
   "source": [
    "np.random.seed(1)\n",
    "A_prev = np.random.randn(2, 5, 7, 4)\n",
    "W = np.random.randn(3, 3, 4, 8)\n",
    "b = np.random.randn(1, 1, 1, 8)\n",
    "hparameters = {\"pad\" : 1,\n",
    "               \"stride\": 2}\n",
    "\n",
    "Z, cache_conv = conv_forward(A_prev, W, b, hparameters)\n",
    "print(\"Z's mean =\\n\", np.mean(Z))\n",
    "print(\"Z[0,2,1] =\\n\", Z[0, 2, 1])\n",
    "print(\"cache_conv[0][1][2][3] =\\n\", cache_conv[0][1][2][3])\n"
   ]
  },
  {
   "cell_type": "markdown",
   "id": "ab8124f0",
   "metadata": {},
   "source": [
    "Finally, a CONV layer should also contain an activation, in which case you would add the following line of code:\n",
    "\n",
    "```python\n",
    "# Convolve the window to get back one output neuron\n",
    "Z[i, h, w, c] = ...\n",
    "# Apply activation\n",
    "A[i, h, w, c] = activation(Z[i, h, w, c])\n",
    "```\n"
   ]
  },
  {
   "cell_type": "markdown",
   "id": "51b53534",
   "metadata": {},
   "source": [
    "## Convolution in Keras Conv2D"
   ]
  },
  {
   "cell_type": "markdown",
   "id": "2090399b",
   "metadata": {},
   "source": [
    "Keras Conv2D is a 2D Convolution Layer, this layer creates a convolution kernel that is wind with layers input which helps produce a tensor of outputs.\n",
    "\n",
    "Mandatory Conv2D parameter is the numbers of filters that convolutional layers will learn from.\n",
    "It is an integer value and also determines the number of output filters in the convolution."
   ]
  },
  {
   "cell_type": "markdown",
   "id": "0767a225",
   "metadata": {},
   "source": [
    "Let’s import the necessary libraries and Conv2D class for our example"
   ]
  },
  {
   "cell_type": "code",
   "execution_count": 13,
   "id": "5e3ed04d",
   "metadata": {},
   "outputs": [],
   "source": [
    "from keras.layers import Conv2D\n",
    "import tensorflow as tf"
   ]
  },
  {
   "cell_type": "markdown",
   "id": "5b1f33c4",
   "metadata": {},
   "source": [
    "Now we will provide an input to our Conv2D layer. We use tf.random.normal function to randomly initialize our input. Here input_shape is of the format (batch_size, height, width, filters)."
   ]
  },
  {
   "cell_type": "code",
   "execution_count": 14,
   "id": "e7e17a88",
   "metadata": {},
   "outputs": [
    {
     "name": "stdout",
     "output_type": "stream",
     "text": [
      "(4, 128, 128, 3)\n"
     ]
    }
   ],
   "source": [
    "input_shape = (4, 128, 128, 3)\n",
    "X = tf.random.normal(input_shape)\n",
    "print(X.shape)"
   ]
  },
  {
   "cell_type": "markdown",
   "id": "b2ced4d5",
   "metadata": {},
   "source": [
    "Output of the code is the same as input_shape: (4, 128, 128, 3)"
   ]
  },
  {
   "cell_type": "markdown",
   "id": "8ff01025",
   "metadata": {},
   "source": [
    "Now, we calculate over convolution with following important parameters"
   ]
  },
  {
   "cell_type": "code",
   "execution_count": 15,
   "id": "8e43582d",
   "metadata": {},
   "outputs": [
    {
     "name": "stdout",
     "output_type": "stream",
     "text": [
      "(4, 128, 128, 6)\n"
     ]
    }
   ],
   "source": [
    "Y = Conv2D(input_shape=input_shape, kernel_size=(2,2), filters=6, strides=(1, 1), padding=\"same\")(X)\n",
    "print(Y.shape)"
   ]
  },
  {
   "cell_type": "markdown",
   "id": "7a3176b3",
   "metadata": {},
   "source": [
    "Let’s look at each parameter:\n",
    "\n",
    "- input_shape=input_shape; to be provided only for the starting Conv2D block\n",
    "- kernel_size=(2,2); the size of the array that is going to calculate convolutions on the input (X in this case)\n",
    "- filters=6; # of channels in the output tensor\n",
    "- strides=(1,1); strides of the convolution along height and width\n",
    "- padding=”same”; keeps the (height, width) of output similar to input\n",
    "Let’s change the filters and padding parameters to see the difference"
   ]
  },
  {
   "cell_type": "code",
   "execution_count": 16,
   "id": "3d80fc1d",
   "metadata": {},
   "outputs": [
    {
     "name": "stdout",
     "output_type": "stream",
     "text": [
      "(4, 64, 64, 4)\n"
     ]
    }
   ],
   "source": [
    "Y = Conv2D(input_shape=input_shape, kernel_size=(2,2), filters=4, strides=(2,2), padding=\"valid\")(X)\n",
    "print(Y.shape)"
   ]
  },
  {
   "cell_type": "markdown",
   "id": "d8b7b62c",
   "metadata": {},
   "source": [
    "Conv2D is a basic building block of a CNN architecture and it has a huge scope of applications. This article is all about the basics of the Conv2D class"
   ]
  },
  {
   "cell_type": "markdown",
   "id": "7f0741b6",
   "metadata": {},
   "source": [
    "## Convolution in Tensorflow Conv2D"
   ]
  },
  {
   "cell_type": "markdown",
   "id": "5318f364",
   "metadata": {},
   "source": [
    "This layer creates a convolution kernel that is convolved with the layer input to produce a tensor of outputs. \n",
    "\n",
    "When using this layer as the first layer in a model, provide the keyword argument input_shape (tuple of integers or None, does not include the sample axis), \n",
    "\n",
    "e.g. input_shape=(128, 128, 3) for 128x128 RGB pictures in data_format=\"channels_last\".\n",
    "\n",
    "You can use None when a dimension has variable size."
   ]
  },
  {
   "cell_type": "code",
   "execution_count": 17,
   "id": "9e499315",
   "metadata": {},
   "outputs": [
    {
     "name": "stdout",
     "output_type": "stream",
     "text": [
      "(4, 26, 26, 2)\n"
     ]
    }
   ],
   "source": [
    "# The inputs are 28x28 RGB images with `channels_last` and the batch\n",
    "# size is 4.\n",
    "input_shape = (4, 28, 28, 3)\n",
    "x = tf.random.normal(input_shape)\n",
    "y = tf.keras.layers.Conv2D(2, 3, activation='relu', input_shape=input_shape[1:])(x)\n",
    "print(y.shape)"
   ]
  },
  {
   "cell_type": "markdown",
   "id": "5980d248",
   "metadata": {},
   "source": [
    "## PyTorch Conv2d"
   ]
  },
  {
   "cell_type": "markdown",
   "id": "f60fa54c",
   "metadata": {},
   "source": [
    "Conv2d instance must be created where the value and stride of the parameter have to be passed in the system. These values are then applied to the input generated data."
   ]
  },
  {
   "cell_type": "markdown",
   "id": "b4fe6c3f",
   "metadata": {},
   "source": [
    "m = Conv2d(in_channels, out_channels, kernel_size=(n, n), stride, padding, bias)\n",
    "\n",
    "All of these parameters change up the convolution’s output, and each of them has a specific purpose,\n",
    "\n",
    "- in_channels – Refers to the number of channels that are in the input image.\n",
    "- out_channels – This field refers to the number of channels produced by the convolution.\n",
    "- kernel_size – Used to provide the width and height of the filter mask.\n",
    "- stride – This field controls the stride for the convolution.\n",
    "- padding – It controls the amount of implicit zero-paddings on both sides for padding number of points for each dimension.\n",
    "- bias – This field checks whether there exists a learnable bias to the output.\n",
    "An example of using the Conv2d class is as follows,\n"
   ]
  },
  {
   "cell_type": "code",
   "execution_count": 18,
   "id": "ab01923e",
   "metadata": {},
   "outputs": [],
   "source": [
    "# importing the class from the package\n",
    "import torch\n",
    "import torch. nn as nn"
   ]
  },
  {
   "cell_type": "code",
   "execution_count": 19,
   "id": "d69aff16",
   "metadata": {},
   "outputs": [],
   "source": [
    "# using square kernels with an equal stride\n",
    "a = nn.Conv2d(4, 16, 6, stride=2)"
   ]
  },
  {
   "cell_type": "markdown",
   "id": "c42a552b",
   "metadata": {},
   "source": [
    "<a name='4'></a>\n",
    "## 4 - Pooling Layer \n",
    "\n",
    "The pooling (POOL) layer reduces the height and width of the input. It helps reduce computation, as well as helps make feature detectors more invariant to its position in the input. The two types of pooling layers are: \n",
    "\n",
    "- Max-pooling layer: slides an ($f, f$) window over the input and stores the max value of the window in the output.\n",
    "\n",
    "- Average-pooling layer: slides an ($f, f$) window over the input and stores the average value of the window in the output.\n",
    "\n",
    "<table>\n",
    "<td>\n",
    "<img src=\"images/max_pool1.png\" style=\"width:500px;height:300px;\">\n",
    "<td>\n",
    "\n",
    "<td>\n",
    "<img src=\"images/a_pool.png\" style=\"width:500px;height:300px;\">\n",
    "<td>\n",
    "</table>\n",
    "\n",
    "These pooling layers have no parameters for backpropagation to train. However, they have hyperparameters such as the window size $f$. This specifies the height and width of the $f \\times f$ window you would compute a *max* or *average* over. \n",
    "\n",
    "\n",
    "# Polling\n",
    "Pooling ensures that the main features of the image are maintained while reducing the size of the image further. This reduces the amount of information passed to the neural network and hence helps to reduce overfitting.\n",
    "\n",
    "<img src=\"pooling.png\" style=\"width:500px;height:300px;\">\n",
    "\n",
    "\n",
    "The addition of a pooling layer after the convolutional layer is a common pattern used for ordering layers within a convolutional neural network that may be repeated one or more times in a given model.\n",
    "\n",
    "The pooling layer operates upon each feature map separately to create a new set of the same number of pooled feature maps.\n",
    "\n",
    "Pooling involves selecting a **pooling operation**, much like a filter to be applied to feature maps.\n",
    "\n",
    "\n",
    "The size of the pooling operation or filter is smaller than the size of the feature map\n",
    "\n",
    "This means that the pooling layer will always reduce the size of each feature map by a factor of 2, e.g. each dimension is halved, reducing the number of pixels or values in each feature map to one quarter the size. \n",
    "\n",
    "\n",
    "For example, a pooling layer applied to a feature map of 6×6 (36 pixels) will result in an output pooled feature map of 3×3 (9 pixels).\n",
    "\n",
    "The pooling operation is specified, rather than learned. Two common functions used in the pooling operation are:\n",
    "\n",
    "**Average Pooling**: Calculate the average value for each patch on the feature map.\n",
    "\n",
    "**Maximum Pooling** (or Max Pooling): Calculate the maximum value for each patch of the feature map.\n",
    "\n",
    "The result of using a pooling layer and creating down sampled or pooled feature maps is a summarized version of the features detected in the input. \n",
    "\n",
    "They are useful as small changes in the location of the feature in the input detected by the convolutional layer will result in a pooled feature map with the feature in the same location. This capability added by pooling is called the model’s invariance to local translation."
   ]
  },
  {
   "cell_type": "markdown",
   "id": "f0946181",
   "metadata": {},
   "source": [
    "<a name='4-1'></a>\n",
    "### 4.1 - Forward Pooling\n",
    "Now, you are going to implement MAX-POOL and AVG-POOL, in the same function. \n",
    "\n",
    "<a name='ex-4'></a>\n",
    "###  pool_forward \n",
    "\n",
    "We have to implement the forward pass of the pooling layer.\n",
    "\n",
    "**Reminder**:\n",
    "As there's no padding, the formulas binding the output shape of the pooling to the input shape is:\n",
    "\n",
    "$$n_H = \\Bigl\\lfloor \\frac{n_{H_{prev}} - f}{stride} \\Bigr\\rfloor +1$$\n",
    "\n",
    "$$n_W = \\Bigl\\lfloor \\frac{n_{W_{prev}} - f}{stride} \\Bigr\\rfloor +1$$\n",
    "\n",
    "$$n_C = n_{C_{prev}}$$"
   ]
  },
  {
   "cell_type": "code",
   "execution_count": 20,
   "id": "d8d0e958",
   "metadata": {},
   "outputs": [],
   "source": [
    "def pool_forward(A_prev, hparameters, mode = \"max\"):\n",
    "    \"\"\"\n",
    "    Implements the forward pass of the pooling layer\n",
    "    \n",
    "    Arguments:\n",
    "    A_prev -- Input data, numpy array of shape (m, n_H_prev, n_W_prev, n_C_prev)\n",
    "    hparameters -- python dictionary containing \"f\" and \"stride\"\n",
    "    mode -- the pooling mode you would like to use, defined as a string (\"max\" or \"average\")\n",
    "    \n",
    "    Returns:\n",
    "    A -- output of the pool layer, a numpy array of shape (m, n_H, n_W, n_C)\n",
    "    cache -- cache used in the backward pass of the pooling layer, contains the input and hparameters \n",
    "    \"\"\"\n",
    "    \n",
    "    # Retrieve dimensions from the input shape\n",
    "    (m, n_H_prev, n_W_prev, n_C_prev) = A_prev.shape\n",
    "    \n",
    "    # Retrieve hyperparameters from \"hparameters\"\n",
    "    f = hparameters[\"f\"]\n",
    "    stride = hparameters[\"stride\"]\n",
    "    \n",
    "    # Define the dimensions of the output\n",
    "    n_H = int(1 + (n_H_prev - f) / stride)\n",
    "    n_W = int(1 + (n_W_prev - f) / stride)\n",
    "    n_C = n_C_prev\n",
    "    \n",
    "    # Initialize output matrix A\n",
    "    A = np.zeros((m, n_H, n_W, n_C))              \n",
    "    \n",
    "    for i in range(m):                         # loop over the training examples\n",
    "        for h in range(n_H):                     # loop on the vertical axis of the output volume\n",
    "            # Find the vertical start and end of the current \"slice\" (≈2 lines)\n",
    "            vert_start = h * stride\n",
    "            vert_end = vert_start + f\n",
    "            for w in range(n_W):                 # loop on the horizontal axis of the output volume\n",
    "                # Find the vertical start and end of the current \"slice\" (≈2 lines)\n",
    "                horiz_start = w * stride\n",
    "                horiz_end = horiz_start + f\n",
    "                for c in range (n_C):            # loop over the channels of the output volume\n",
    "                    # Use the corners to define the current slice on the ith training example of A_prev, channel c. (≈1 line)\n",
    "                    a_prev_slice = A_prev[i, vert_start:vert_end, horiz_start:horiz_end, c]\n",
    "                    # Compute the pooling operation on the slice. \n",
    "                    # Use an if statement to differentiate the modes. \n",
    "                    # Use np.max and np.mean.\n",
    "                    if mode == \"max\":\n",
    "                         A[i, h, w, c] = np.max(a_prev_slice)\n",
    "                    elif mode == \"average\":\n",
    "                         A[i, h, w, c] = np.mean(a_prev_slice)    \n",
    "    \n",
    "\n",
    "    \n",
    "    # Store the input and hparameters in \"cache\" for pool_backward()\n",
    "    cache = (A_prev, hparameters)\n",
    "    \n",
    "    # Making sure your output shape is correct\n",
    "    assert(A.shape == (m, n_H, n_W, n_C))\n",
    "    \n",
    "    return A, cache"
   ]
  },
  {
   "cell_type": "code",
   "execution_count": 21,
   "id": "d59c6a02",
   "metadata": {},
   "outputs": [
    {
     "name": "stdout",
     "output_type": "stream",
     "text": [
      "mode = max\n",
      "A.shape = (2, 3, 3, 3)\n",
      "A[1, 1] =\n",
      " [[1.96710175 0.84616065 1.27375593]\n",
      " [1.96710175 0.84616065 1.23616403]\n",
      " [1.62765075 1.12141771 1.2245077 ]]\n",
      "mode = average\n",
      "A.shape = (2, 3, 3, 3)\n",
      "A[1, 1] =\n",
      " [[ 0.44497696 -0.00261695 -0.31040307]\n",
      " [ 0.50811474 -0.23493734 -0.23961183]\n",
      " [ 0.11872677  0.17255229 -0.22112197]]\n"
     ]
    }
   ],
   "source": [
    "# Case 1: stride of 1\n",
    "np.random.seed(1)\n",
    "A_prev = np.random.randn(2, 5, 5, 3)\n",
    "hparameters = {\"stride\" : 1, \"f\": 3}\n",
    "\n",
    "A, cache = pool_forward(A_prev, hparameters, mode = \"max\")\n",
    "print(\"mode = max\")\n",
    "print(\"A.shape = \" + str(A.shape))\n",
    "print(\"A[1, 1] =\\n\", A[1, 1])\n",
    "A, cache = pool_forward(A_prev, hparameters, mode = \"average\")\n",
    "print(\"mode = average\")\n",
    "print(\"A.shape = \" + str(A.shape))\n",
    "print(\"A[1, 1] =\\n\", A[1, 1])\n",
    "\n"
   ]
  },
  {
   "cell_type": "code",
   "execution_count": 22,
   "id": "5081d1a5",
   "metadata": {},
   "outputs": [
    {
     "name": "stdout",
     "output_type": "stream",
     "text": [
      "mode = max\n",
      "A.shape = (2, 2, 2, 3)\n",
      "A[0] =\n",
      " [[[1.74481176 0.90159072 1.65980218]\n",
      "  [1.74481176 1.6924546  1.65980218]]\n",
      "\n",
      " [[1.13162939 1.51981682 2.18557541]\n",
      "  [1.13162939 1.6924546  2.18557541]]]\n",
      "\n",
      "mode = average\n",
      "A.shape = (2, 2, 2, 3)\n",
      "A[1] =\n",
      " [[[-0.17313416  0.32377198 -0.34317572]\n",
      "  [ 0.02030094  0.14141479 -0.01231585]]\n",
      "\n",
      " [[ 0.42944926  0.08446996 -0.27290905]\n",
      "  [ 0.15077452  0.28911175  0.00123239]]]\n"
     ]
    }
   ],
   "source": [
    "# Case 2: stride of 2\n",
    "np.random.seed(1)\n",
    "A_prev = np.random.randn(2, 5, 5, 3)\n",
    "hparameters = {\"stride\" : 2, \"f\": 3}\n",
    "\n",
    "A, cache = pool_forward(A_prev, hparameters)\n",
    "print(\"mode = max\")\n",
    "print(\"A.shape = \" + str(A.shape))\n",
    "print(\"A[0] =\\n\", A[0])\n",
    "print()\n",
    "\n",
    "A, cache = pool_forward(A_prev, hparameters, mode = \"average\")\n",
    "print(\"mode = average\")\n",
    "print(\"A.shape = \" + str(A.shape))\n",
    "print(\"A[1] =\\n\", A[1])"
   ]
  },
  {
   "cell_type": "markdown",
   "id": "1caf03d4",
   "metadata": {},
   "source": [
    "<font color='blue'>\n",
    "    \n",
    "**What we should remember**:\n",
    "\n",
    "* A convolution extracts features from an input image by taking the dot product between the input data and a 3D array of weights (the filter). \n",
    "* The 2D output of the convolution is called the feature map\n",
    "* A convolution layer is where the filter slides over the image and computes the dot product \n",
    "    * This transforms the input volume into an output volume of different size \n",
    "* Zero padding helps keep more information at the image borders, and is helpful for building deeper networks, because you can build a CONV layer without shrinking the height and width of the volumes\n",
    "* Pooling layers gradually reduce the height and width of the input by sliding a 2D window over each specified region, then summarizing the features in that region"
   ]
  },
  {
   "cell_type": "markdown",
   "id": "c92a370e",
   "metadata": {},
   "source": [
    "# Keras - Pooling Layer"
   ]
  },
  {
   "cell_type": "markdown",
   "id": "fd646bfb",
   "metadata": {},
   "source": [
    "It is used to perform max pooling operations on temporal data. The signature of the MaxPooling1D function and its arguments with default value is as follows −\n",
    "```\n",
    "keras.layers.MaxPooling1D (\n",
    "   pool_size = 2, \n",
    "   strides = None, \n",
    "   padding = 'valid', \n",
    "   data_format = 'channels_last'\n",
    ")\n",
    "```\n",
    "Here,\n",
    "\n",
    "pool_size refers the max pooling windows.\n",
    "\n",
    "strides refer the factors for downscale.\n",
    "\n",
    "Similarly, MaxPooling2D and MaxPooling3D are used for Max pooling operations for spatial data."
   ]
  },
  {
   "cell_type": "markdown",
   "id": "e15956bd",
   "metadata": {},
   "source": [
    "### Detecting Vertical Lines\n",
    "Before we look at some examples of pooling layers and their effects, let’s develop a small example of an input image and convolutional layer to which we can later add and evaluate pooling layers.\n",
    "\n",
    "In this example, we define a single input image or sample that has one channel and is an 8 pixel by 8 pixel square with all 0 values and a two-pixel wide vertical line in the center."
   ]
  },
  {
   "cell_type": "code",
   "execution_count": 23,
   "id": "57c7ce74",
   "metadata": {},
   "outputs": [
    {
     "name": "stdout",
     "output_type": "stream",
     "text": [
      "Model: \"sequential\"\n",
      "_________________________________________________________________\n",
      " Layer (type)                Output Shape              Param #   \n",
      "=================================================================\n",
      " conv2d_3 (Conv2D)           (None, 6, 6, 1)           10        \n",
      "                                                                 \n",
      "=================================================================\n",
      "Total params: 10\n",
      "Trainable params: 10\n",
      "Non-trainable params: 0\n",
      "_________________________________________________________________\n",
      "[0.0, 0.0, 3.0, 3.0, 0.0, 0.0]\n",
      "[0.0, 0.0, 3.0, 3.0, 0.0, 0.0]\n",
      "[0.0, 0.0, 3.0, 3.0, 0.0, 0.0]\n",
      "[0.0, 0.0, 3.0, 3.0, 0.0, 0.0]\n",
      "[0.0, 0.0, 3.0, 3.0, 0.0, 0.0]\n",
      "[0.0, 0.0, 3.0, 3.0, 0.0, 0.0]\n"
     ]
    }
   ],
   "source": [
    "from numpy import asarray\n",
    "from keras.models import Sequential\n",
    "from keras.layers import Conv2D\n",
    "# define input data\n",
    "data = [[0, 0, 0, 1, 1, 0, 0, 0],\n",
    "\t\t[0, 0, 0, 1, 1, 0, 0, 0],\n",
    "\t\t[0, 0, 0, 1, 1, 0, 0, 0],\n",
    "\t\t[0, 0, 0, 1, 1, 0, 0, 0],\n",
    "\t\t[0, 0, 0, 1, 1, 0, 0, 0],\n",
    "\t\t[0, 0, 0, 1, 1, 0, 0, 0],\n",
    "\t\t[0, 0, 0, 1, 1, 0, 0, 0],\n",
    "\t\t[0, 0, 0, 1, 1, 0, 0, 0]]\n",
    "data = asarray(data)\n",
    "data = data.reshape(1, 8, 8, 1)\n",
    "# create model\n",
    "model = Sequential()\n",
    "model.add(Conv2D(1, (3,3), activation='relu', input_shape=(8, 8, 1)))\n",
    "# summarize model\n",
    "model.summary()\n",
    "# define a vertical line detector\n",
    "detector = [[[[0]],[[1]],[[0]]],\n",
    "            [[[0]],[[1]],[[0]]],\n",
    "            [[[0]],[[1]],[[0]]]]\n",
    "weights = [asarray(detector), asarray([0.0])]\n",
    "# store the weights in the model\n",
    "model.set_weights(weights)\n",
    "# apply filter to input data\n",
    "yhat = model.predict(data)\n",
    "# enumerate rows\n",
    "for r in range(yhat.shape[1]):\n",
    "\t# print each column in the row\n",
    "\tprint([yhat[0,r,c,0] for c in range(yhat.shape[2])])"
   ]
  },
  {
   "cell_type": "markdown",
   "id": "2c26f3f8",
   "metadata": {},
   "source": [
    "Running the example first summarizes the structure of the model.\n",
    "\n",
    "Of note is that the single hidden convolutional layer will take the 8×8 pixel input image and will produce a feature map with the dimensions of 6×6.\n",
    "\n",
    "We can also see that the layer has 10 parameters: that is nine weights for the filter (3×3) and one weight for the bias.\n",
    "\n",
    "Finally, the single feature map is printed.\n",
    "\n",
    "We can see from reviewing the numbers in the 6×6 matrix that indeed the manually specified filter detected the vertical line in the middle of our input image.\n",
    "\n",
    "\n",
    "### Average Pooling Layer\n",
    "On two-dimensional feature maps, pooling is typically applied in 2×2 patches of the feature map with a stride of (2,2).\n",
    "\n",
    "Average pooling involves calculating the average for each patch of the feature map. This means that each 2×2 square of the feature map is down sampled to the average value in the square.\n",
    "\n",
    "For example, the output of the line detector convolutional filter in the previous section was a 6×6 feature map. We can look at applying the average pooling operation to the first line of that feature map manually."
   ]
  },
  {
   "cell_type": "code",
   "execution_count": 24,
   "id": "dc2a74c0",
   "metadata": {},
   "outputs": [
    {
     "name": "stdout",
     "output_type": "stream",
     "text": [
      "Model: \"sequential_1\"\n",
      "_________________________________________________________________\n",
      " Layer (type)                Output Shape              Param #   \n",
      "=================================================================\n",
      " conv2d_4 (Conv2D)           (None, 6, 6, 1)           10        \n",
      "                                                                 \n",
      " average_pooling2d (AverageP  (None, 3, 3, 1)          0         \n",
      " ooling2D)                                                       \n",
      "                                                                 \n",
      "=================================================================\n",
      "Total params: 10\n",
      "Trainable params: 10\n",
      "Non-trainable params: 0\n",
      "_________________________________________________________________\n",
      "[0.0, 3.0, 0.0]\n",
      "[0.0, 3.0, 0.0]\n",
      "[0.0, 3.0, 0.0]\n"
     ]
    }
   ],
   "source": [
    "from numpy import asarray\n",
    "from keras.models import Sequential\n",
    "from keras.layers import Conv2D\n",
    "from keras.layers import AveragePooling2D\n",
    "# define input data\n",
    "data = [[0, 0, 0, 1, 1, 0, 0, 0],\n",
    "\t\t[0, 0, 0, 1, 1, 0, 0, 0],\n",
    "\t\t[0, 0, 0, 1, 1, 0, 0, 0],\n",
    "\t\t[0, 0, 0, 1, 1, 0, 0, 0],\n",
    "\t\t[0, 0, 0, 1, 1, 0, 0, 0],\n",
    "\t\t[0, 0, 0, 1, 1, 0, 0, 0],\n",
    "\t\t[0, 0, 0, 1, 1, 0, 0, 0],\n",
    "\t\t[0, 0, 0, 1, 1, 0, 0, 0]]\n",
    "data = asarray(data)\n",
    "data = data.reshape(1, 8, 8, 1)\n",
    "# create model\n",
    "model = Sequential()\n",
    "model.add(Conv2D(1, (3,3), activation='relu', input_shape=(8, 8, 1)))\n",
    "model.add(AveragePooling2D())\n",
    "# summarize model\n",
    "model.summary()\n",
    "# define a vertical line detector\n",
    "detector = [[[[0]],[[1]],[[0]]],\n",
    "            [[[0]],[[1]],[[0]]],\n",
    "            [[[0]],[[1]],[[0]]]]\n",
    "weights = [asarray(detector), asarray([0.0])]\n",
    "# store the weights in the model\n",
    "model.set_weights(weights)\n",
    "# apply filter to input data\n",
    "yhat = model.predict(data)\n",
    "# enumerate rows\n",
    "for r in range(yhat.shape[1]):\n",
    "\t# print each column in the row\n",
    "\tprint([yhat[0,r,c,0] for c in range(yhat.shape[2])])"
   ]
  },
  {
   "cell_type": "markdown",
   "id": "0066a890",
   "metadata": {},
   "source": [
    "We can see from the model summary that the input to the pooling layer will be a single feature map with the shape (6,6) and that the output of the average pooling layer will be a single feature map with each dimension halved, with the shape (3,3).\n",
    "\n",
    "Applying the average pooling results in a new feature map that still detects the line, although in a down sampled manner, exactly as we expected from calculating the operation manually."
   ]
  },
  {
   "cell_type": "markdown",
   "id": "eaf0e613",
   "metadata": {},
   "source": [
    "## Pooling with Pytorch\n",
    "It is common practice to use either max pooling or average pooling at the end of a neural network but before the output layer in order to reduce the features to a smaller, summarized form.\n",
    "\n",
    "\n",
    "**Max pooling** strips away all information of the specified kernel except for the strongest signal.\n",
    "\n",
    "\n",
    "**Average pooling** summarizes the signal in the kernel to a single average.\n",
    "\n"
   ]
  },
  {
   "cell_type": "code",
   "execution_count": 25,
   "id": "82237d9d",
   "metadata": {},
   "outputs": [],
   "source": [
    "import torch.nn as nn\n",
    "\n",
    "class Convolutional(nn.Module):\n",
    "    def __init__(self, input_channels=3, num_classes=10):\n",
    "        super(Convolutional, self).__init__()\n",
    "        self.layer1 = nn.Sequential()\n",
    "        self.layer1.add_module(\"Conv1\", nn.Conv2d(in_channels=input_channels, out_channels=16, kernel_size=3, padding=1))\n",
    "        self.layer1.add_module(\"BN1\", nn.BatchNorm2d(num_features=16, eps=1e-05, momentum=0.1, affine=True,\n",
    "            track_running_stats=True))\n",
    "        self.layer1.add_module(\"Relu1\", nn.ReLU(inplace=False))\n",
    "        self.layer2 = nn.Sequential()\n",
    "        self.layer2.add_module(\"Conv2\", nn.Conv2d(in_channels=16, out_channels=32, kernel_size=3, padding=1, stride=2))\n",
    "        self.layer2.add_module(\"BN2\", nn.BatchNorm2d(num_features=32, eps=1e-05, momentum=0.1, affine=True,\n",
    "            track_running_stats=True))\n",
    "        self.layer2.add_module(\"Relu2\", nn.ReLU(inplace=False))\n",
    "        self.avg_pool(\"AvgPool1\", nn.AvgPool2D(kernel_size=4, stride=4, padding=0, ceil_mode=False,\n",
    "            count_include_pad=False))\n",
    "        self.fully_connected = nn.Linear(32 * 4 * 4, num_classes)\n",
    "    def forward(self, x):\n",
    "        y = x.clone()\n",
    "        x = self.layer1(x)\n",
    "        x = self.layer2(x)\n",
    "        x = self.avg_pool(x)\n",
    "        x = x.view(-1, 32 * 4 * 4)\n",
    "        x = self.fully_connected(x)\n",
    "        return x"
   ]
  },
  {
   "cell_type": "markdown",
   "id": "e4869bb3",
   "metadata": {},
   "source": [
    "we can see that the AvgPool2D function\n",
    "```\n",
    "self.avg_pool(\"AvgPool1\", nn.AvgPool2D(kernel_size=4, stride=4, padding=0, ceil_mode=False,\n",
    "            count_include_pad=False))\n",
    "```\n",
    "is used to perform average pooling on the output of the second convolutional layer."
   ]
  },
  {
   "cell_type": "markdown",
   "id": "ee392c16",
   "metadata": {},
   "source": [
    "## Rectified Linear Activation Function (RELU)\n",
    "In order to use stochastic gradient descent with backpropagation of errors to train deep neural networks, an activation function is needed that looks and acts like a linear function, but is, in fact, a nonlinear function allowing complex relationships in the data to be learned.\n",
    "\n",
    "The function must also provide more sensitivity to the activation sum input and avoid easy saturation.\n",
    "The solution is to use the rectified linear activation function, or ReL for short.\n",
    "A node or unit that implements this activation function is referred to as a rectified linear activation unit, or ReLU for short. Often, networks that use the rectifier function for the hidden layers are referred to as rectified networks.\n",
    "\n"
   ]
  },
  {
   "cell_type": "code",
   "execution_count": 26,
   "id": "d32ab5d6",
   "metadata": {},
   "outputs": [
    {
     "name": "stdout",
     "output_type": "stream",
     "text": [
      "rectified(1.0) is 1.0\n",
      "rectified(1000.0) is 1000.0\n",
      "rectified(0.0) is 0.0\n",
      "rectified(-1.0) is 0.0\n",
      "rectified(-1000.0) is 0.0\n"
     ]
    }
   ],
   "source": [
    "# rectified linear function\n",
    "def rectified(x):\n",
    "\treturn max(0.0, x)\n",
    " \n",
    "# demonstrate with a positive input\n",
    "x = 1.0\n",
    "print('rectified(%.1f) is %.1f' % (x, rectified(x)))\n",
    "x = 1000.0\n",
    "print('rectified(%.1f) is %.1f' % (x, rectified(x)))\n",
    "# demonstrate with a zero input\n",
    "x = 0.0\n",
    "print('rectified(%.1f) is %.1f' % (x, rectified(x)))\n",
    "# demonstrate with a negative input\n",
    "x = -1.0\n",
    "print('rectified(%.1f) is %.1f' % (x, rectified(x)))\n",
    "x = -1000.0\n",
    "print('rectified(%.1f) is %.1f' % (x, rectified(x)))"
   ]
  },
  {
   "cell_type": "markdown",
   "id": "6fec6682",
   "metadata": {},
   "source": [
    "Running the example, we can see that positive values are returned regardless of their size, whereas negative values are snapped to the value 0.0."
   ]
  },
  {
   "cell_type": "code",
   "execution_count": 27,
   "id": "c193d72f",
   "metadata": {},
   "outputs": [
    {
     "data": {
      "image/png": "[encoded data removed]",
      "text/plain": [
       "<Figure size 432x288 with 1 Axes>"
      ]
     },
     "metadata": {
      "needs_background": "light"
     },
     "output_type": "display_data"
    }
   ],
   "source": [
    "# plot inputs and outputs\n",
    "from matplotlib import pyplot\n",
    " \n",
    "# rectified linear function\n",
    "def rectified(x):\n",
    "\treturn max(0.0, x)\n",
    " \n",
    "# define a series of inputs\n",
    "series_in = [x for x in range(-10, 11)]\n",
    "# calculate outputs for our inputs\n",
    "series_out = [rectified(x) for x in series_in]\n",
    "# line plot of raw inputs to rectified outputs\n",
    "pyplot.plot(series_in, series_out)\n",
    "pyplot.show()"
   ]
  },
  {
   "cell_type": "markdown",
   "id": "dcdbed90",
   "metadata": {},
   "source": [
    "<a name='5'></a>\n",
    "## 5 - Backpropagation in Convolutional Neural Networks \n",
    "\n",
    "In modern deep learning frameworks, we have to implement the forward pass, and the framework takes care of the backward pass, so most deep learning engineers don't need to bother with the details of the backward pass.\n",
    "\n",
    "\n",
    "<a name='5-1'></a>\n",
    "### 5.1 - Convolutional Layer Backward Pass \n",
    "\n",
    "Let's start by implementing the backward pass for a CONV layer. \n",
    "\n",
    "<a name='5-1-1'></a>\n",
    "#### 5.1.1 - Computing dA:\n",
    "This is the formula for computing $dA$ with respect to the cost for a certain filter $W_c$ and a given training example:\n",
    "\n",
    "$$dA \\mathrel{+}= \\sum _{h=0} ^{n_H} \\sum_{w=0} ^{n_W} W_c \\times dZ_{hw} \\tag{1}$$\n",
    "\n",
    "Where $W_c$ is a filter and $dZ_{hw}$ is a scalar corresponding to the gradient of the cost with respect to the output of the conv layer Z at the hth row and wth column (corresponding to the dot product taken at the ith stride left and jth stride down). Note that at each time, you multiply the the same filter $W_c$ by a different dZ when updating dA. We do so mainly because when computing the forward propagation, each filter is dotted and summed by a different a_slice. Therefore when computing the backprop for dA, you are just adding the gradients of all the a_slices. \n",
    "\n",
    "In code, inside the appropriate for-loops, this formula translates into:\n",
    "```python\n",
    "da_prev_pad[vert_start:vert_end, horiz_start:horiz_end, :] += W[:,:,:,c] * dZ[i, h, w, c]\n",
    "```\n",
    "\n",
    "<a name='5-1-2'></a>\n",
    "#### 5.1.2 - Computing dW:\n",
    "This is the formula for computing $dW_c$ ($dW_c$ is the derivative of one filter) with respect to the loss:\n",
    "\n",
    "$$dW_c  \\mathrel{+}= \\sum _{h=0} ^{n_H} \\sum_{w=0} ^ {n_W} a_{slice} \\times dZ_{hw}  \\tag{2}$$\n",
    "\n",
    "Where $a_{slice}$ corresponds to the slice which was used to generate the activation $Z_{ij}$. Hence, this ends up giving us the gradient for $W$ with respect to that slice. Since it is the same $W$, we will just add up all such gradients to get $dW$. \n",
    "\n",
    "In code, inside the appropriate for-loops, this formula translates into:\n",
    "```python\n",
    "dW[:,:,:,c] \\mathrel{+}= a_slice * dZ[i, h, w, c]\n",
    "```\n",
    "\n",
    "<a name='5-1-3'></a>\n",
    "#### 5.1.3 - Computing db:\n",
    "\n",
    "This is the formula for computing $db$ with respect to the cost for a certain filter $W_c$:\n",
    "\n",
    "$$db = \\sum_h \\sum_w dZ_{hw} \\tag{3}$$\n",
    "\n",
    "As you have previously seen in basic neural networks, db is computed by summing $dZ$. In this case, you are just summing over all the gradients of the conv output (Z) with respect to the cost. \n",
    "\n",
    "In code, inside the appropriate for-loops, this formula translates into:\n",
    "```python\n",
    "db[:,:,:,c] += dZ[i, h, w, c]\n",
    "```\n",
    "\n",
    "<a name='ex-5'></a>\n",
    "### conv_backward\n",
    "\n",
    "We have to  sum over all the training examples, filters, heights, and widths. Then compute the derivatives using formulas 1, 2 and 3 above. "
   ]
  },
  {
   "cell_type": "code",
   "execution_count": 28,
   "id": "6b5b1109",
   "metadata": {},
   "outputs": [],
   "source": [
    "def conv_backward(dZ, cache):\n",
    "    \"\"\"\n",
    "    Implement the backward propagation for a convolution function\n",
    "    \n",
    "    Arguments:\n",
    "    dZ -- gradient of the cost with respect to the output of the conv layer (Z), numpy array of shape (m, n_H, n_W, n_C)\n",
    "    cache -- cache of values needed for the conv_backward(), output of conv_forward()\n",
    "    \n",
    "    Returns:\n",
    "    dA_prev -- gradient of the cost with respect to the input of the conv layer (A_prev),\n",
    "               numpy array of shape (m, n_H_prev, n_W_prev, n_C_prev)\n",
    "    dW -- gradient of the cost with respect to the weights of the conv layer (W)\n",
    "          numpy array of shape (f, f, n_C_prev, n_C)\n",
    "    db -- gradient of the cost with respect to the biases of the conv layer (b)\n",
    "          numpy array of shape (1, 1, 1, n_C)\n",
    "    \"\"\"    \n",
    "    # Retrieve information from \"cache\"\n",
    "    (A_prev, W, b, hparameters) = cache\n",
    "    # Retrieve dimensions from A_prev's shape\n",
    "    (m, n_H_prev, n_W_prev, n_C_prev) = A_prev.shape\n",
    "    # Retrieve dimensions from W's shape\n",
    "    (f, f, n_C_prev, n_C) = W.shape\n",
    "    \n",
    "    # Retrieve information from \"hparameters\"\n",
    "    stride = hparameters[\"stride\"]\n",
    "    pad = hparameters[\"pad\"]\n",
    "    \n",
    "    # Retrieve dimensions from dZ's shape\n",
    "    (m, n_H, n_W, n_C) = dZ.shape\n",
    "    \n",
    "    # Initialize dA_prev, dW, db with the correct shapes\n",
    "    dA_prev = np.zeros((m, n_H_prev, n_W_prev, n_C_prev))                           \n",
    "    dW = np.zeros((f, f, n_C_prev, n_C))\n",
    "    db = np.zeros((1, 1, 1, n_C))\n",
    "    \n",
    "    # Pad A_prev and dA_prev\n",
    "    A_prev_pad = zero_pad(A_prev, pad)\n",
    "    dA_prev_pad = zero_pad(dA_prev, pad)\n",
    "    \n",
    "    for i in range(m):                       # loop over the training examples\n",
    "        \n",
    "        # select ith training example from A_prev_pad and dA_prev_pad\n",
    "        a_prev_pad = A_prev_pad[i]\n",
    "        da_prev_pad = dA_prev_pad[i]\n",
    "        \n",
    "        for h in range(n_H):                   # loop over vertical axis of the output volume\n",
    "            for w in range(n_W):               # loop over horizontal axis of the output volume\n",
    "                for c in range(n_C):           # loop over the channels of the output volume\n",
    "                    \n",
    "                    # Find the corners of the current \"slice\"\n",
    "                    vert_start = h * stride\n",
    "                    vert_end = vert_start + f\n",
    "                    horiz_start = w * stride\n",
    "                    horiz_end = horiz_start + f\n",
    "                    # Use the corners to define the slice from a_prev_pad\n",
    "                    a_slice = a_prev_pad[vert_start:vert_end, horiz_start:horiz_end, :]\n",
    "                    # Update gradients for the window and the filter's parameters using the code formulas given above\n",
    "                    da_prev_pad[vert_start:vert_end, horiz_start:horiz_end, :] += W[:,:,:,c] * dZ[i, h, w, c]\n",
    "                    dW[:,:,:,c] += a_slice * dZ[i, h, w, c]\n",
    "                    db[:,:,:,c] += dZ[i, h, w, c]\n",
    "                    \n",
    "        # Set the ith training example's dA_prev to the unpadded da_prev_pad (Hint: use X[pad:-pad, pad:-pad, :])\n",
    "        dA_prev[i, :, :, :] = da_prev_pad[pad:-pad, pad:-pad, :]   \n",
    "    # Making sure your output shape is correct\n",
    "    assert(dA_prev.shape == (m, n_H_prev, n_W_prev, n_C_prev))\n",
    "    return dA_prev, dW, db"
   ]
  },
  {
   "cell_type": "code",
   "execution_count": 29,
   "id": "78a5b132",
   "metadata": {},
   "outputs": [
    {
     "name": "stdout",
     "output_type": "stream",
     "text": [
      "dA_mean = 1.4524377775388075\n",
      "dW_mean = 1.7269914583139097\n",
      "db_mean = 7.839232564616838\n"
     ]
    }
   ],
   "source": [
    "# We'll run conv_forward to initialize the 'Z' and 'cache_conv\",\n",
    "# which we'll use to test the conv_backward function\n",
    "np.random.seed(1)\n",
    "A_prev = np.random.randn(10, 4, 4, 3)\n",
    "W = np.random.randn(2, 2, 3, 8)\n",
    "b = np.random.randn(1, 1, 1, 8)\n",
    "hparameters = {\"pad\" : 2,\n",
    "               \"stride\": 2}\n",
    "Z, cache_conv = conv_forward(A_prev, W, b, hparameters)\n",
    "\n",
    "# Test conv_backward\n",
    "dA, dW, db = conv_backward(Z, cache_conv)\n",
    "\n",
    "print(\"dA_mean =\", np.mean(dA))\n",
    "print(\"dW_mean =\", np.mean(dW))\n",
    "print(\"db_mean =\", np.mean(db))\n",
    "\n"
   ]
  },
  {
   "cell_type": "markdown",
   "id": "91330187",
   "metadata": {},
   "source": [
    "<a name='5-2'></a>\n",
    "## 5.2 Pooling Layer - Backward Pass\n",
    "\n",
    "Next, let's implement the backward pass for the pooling layer, starting with the MAX-POOL layer. Even though a pooling layer has no parameters for backprop to update, you still need to backpropagate the gradient through the pooling layer in order to compute gradients for layers that came before the pooling layer. \n",
    "\n",
    "<a name='5-2-1'></a>\n",
    "### 5.2.1 Max Pooling - Backward Pass  \n",
    "\n",
    "Before jumping into the backpropagation of the pooling layer, you are going to build a helper function called `create_mask_from_window()` which does the following: \n",
    "\n",
    "$$ X = \\begin{bmatrix}\n",
    "1 && 3 \\\\\n",
    "4 && 2\n",
    "\\end{bmatrix} \\quad \\rightarrow  \\quad M =\\begin{bmatrix}\n",
    "0 && 0 \\\\\n",
    "1 && 0\n",
    "\\end{bmatrix}\\tag{4}$$\n",
    "\n",
    "As you can see, this function creates a \"mask\" matrix which keeps track of where the maximum of the matrix is. True (1) indicates the position of the maximum in X, the other entries are False (0). You'll see later that the backward pass for average pooling is similar to this, but uses a different mask.  \n",
    "\n",
    "<a name='ex-6'></a>\n",
    "\n",
    "\n",
    "We implement `create_mask_from_window()`. This function will be helpful for pooling backward. \n",
    "- [np.max()]() may be helpful. It computes the maximum of an array.\n",
    "- If you have a matrix X and a scalar x: `A = (X == x)` will return a matrix A of the same size as X such that:\n",
    "```\n",
    "A[i,j] = True if X[i,j] = x\n",
    "A[i,j] = False if X[i,j] != x\n",
    "```\n",
    "- Here, you don't need to consider cases where there are several maxima in a matrix."
   ]
  },
  {
   "cell_type": "code",
   "execution_count": 30,
   "id": "77328155",
   "metadata": {},
   "outputs": [],
   "source": [
    "def create_mask_from_window(x):\n",
    "    \"\"\"\n",
    "    Creates a mask from an input matrix x, to identify the max entry of x.\n",
    "    \n",
    "    Arguments:\n",
    "    x -- Array of shape (f, f)\n",
    "    \n",
    "    Returns:\n",
    "    mask -- Array of the same shape as window, contains a True at the position corresponding to the max entry of x.\n",
    "    \"\"\"    \n",
    "\n",
    "    mask = x == np.max(x)\n",
    "    \n",
    "\n",
    "    return mask"
   ]
  },
  {
   "cell_type": "code",
   "execution_count": 31,
   "id": "3a79bd16",
   "metadata": {},
   "outputs": [
    {
     "name": "stdout",
     "output_type": "stream",
     "text": [
      "x =  [[ 1.62434536 -0.61175641 -0.52817175]\n",
      " [-1.07296862  0.86540763 -2.3015387 ]]\n",
      "mask =  [[ True False False]\n",
      " [False False False]]\n"
     ]
    }
   ],
   "source": [
    "np.random.seed(1)\n",
    "x = np.random.randn(2, 3)\n",
    "mask = create_mask_from_window(x)\n",
    "print('x = ', x)\n",
    "print(\"mask = \", mask)\n",
    "\n",
    "x = np.array([[-1, 2, 3],\n",
    "              [2, -3, 2],\n",
    "              [1, 5, -2]])\n",
    "\n",
    "y = np.array([[False, False, False],\n",
    "     [False, False, False],\n",
    "     [False, True, False]])\n",
    "mask = create_mask_from_window(x)\n",
    "\n",
    "\n"
   ]
  },
  {
   "cell_type": "markdown",
   "id": "23dd90d2",
   "metadata": {},
   "source": [
    "Why keep track of the position of the max? It's because this is the input value that ultimately influenced the output, and therefore the cost. Backprop is computing gradients with respect to the cost, so anything that influences the ultimate cost should have a non-zero gradient. So, backprop will \"propagate\" the gradient back to this particular input value that had influenced the cost. "
   ]
  },
  {
   "cell_type": "markdown",
   "id": "bd6e5242",
   "metadata": {},
   "source": [
    "<a name='5-2-2'></a>\n",
    "### 5.2.2 - Average Pooling - Backward Pass \n",
    "\n",
    "In max pooling, for each input window, all the \"influence\" on the output came from a single input value--the max. In average pooling, every element of the input window has equal influence on the output. So to implement backprop, you will now implement a helper function that reflects this.\n",
    "\n",
    "For example if we did average pooling in the forward pass using a 2x2 filter, then the mask you'll use for the backward pass will look like: \n",
    "$$ dZ = 1 \\quad \\rightarrow  \\quad dZ =\\begin{bmatrix}\n",
    "1/4 && 1/4 \\\\\n",
    "1/4 && 1/4\n",
    "\\end{bmatrix}\\tag{5}$$\n",
    "\n",
    "This implies that each position in the $dZ$ matrix contributes equally to output because in the forward pass, we took an average. \n",
    "\n",
    "<a name='ex-7'></a>\n",
    "### Distribute_value\n",
    "\n",
    "Implement the function below to equally distribute a value dz through a matrix of dimension shape. [info](https://docs.scipy.org/doc/numpy-1.13.0/reference/generated/numpy.ones.html)"
   ]
  },
  {
   "cell_type": "code",
   "execution_count": 32,
   "id": "d0426122",
   "metadata": {},
   "outputs": [],
   "source": [
    "def distribute_value(dz, shape):\n",
    "    \"\"\"\n",
    "    Distributes the input value in the matrix of dimension shape\n",
    "    \n",
    "    Arguments:\n",
    "    dz -- input scalar\n",
    "    shape -- the shape (n_H, n_W) of the output matrix for which we want to distribute the value of dz\n",
    "    \n",
    "    Returns:\n",
    "    a -- Array of size (n_H, n_W) for which we distributed the value of dz\n",
    "    \"\"\"    \n",
    "    # Retrieve dimensions from shape (≈1 line)\n",
    "    (n_H, n_W) = shape\n",
    "    # Compute the value to distribute on the matrix (≈1 line)\n",
    "    average = dz / (n_H * n_W)\n",
    "    # Create a matrix where every entry is the \"average\" value (≈1 line)\n",
    "    a = np.ones(shape) * average    \n",
    "    return a"
   ]
  },
  {
   "cell_type": "code",
   "execution_count": 33,
   "id": "8b8800aa",
   "metadata": {},
   "outputs": [
    {
     "name": "stdout",
     "output_type": "stream",
     "text": [
      "distributed value = [[0.5 0.5]\n",
      " [0.5 0.5]]\n"
     ]
    }
   ],
   "source": [
    "a = distribute_value(2, (2, 2))\n",
    "print('distributed value =', a)"
   ]
  },
  {
   "cell_type": "markdown",
   "id": "7dad0fb9",
   "metadata": {},
   "source": [
    "<a name='5-2-3'></a>\n",
    "### 5.2.3 Putting it Together: Pooling Backward \n",
    "\n",
    "You now have everything you need to compute backward propagation on a pooling layer.\n",
    "\n",
    "<a name='ex-8'></a>\n",
    "### pool_backward\n",
    "\n",
    "Implement the `pool_backward` function in both modes (`\"max\"` and `\"average\"`). You will once again use 4 for-loops (iterating over training examples, height, width, and channels). You should use an `if/elif` statement to see if the mode is equal to `'max'` or `'average'`. If it is equal to 'average' you should use the `distribute_value()` function you implemented above to create a matrix of the same shape as `a_slice`. Otherwise, the mode is equal to '`max`', and you will create a mask with `create_mask_from_window()` and multiply it by the corresponding value of dA."
   ]
  },
  {
   "cell_type": "code",
   "execution_count": 34,
   "id": "9e990a2d",
   "metadata": {},
   "outputs": [],
   "source": [
    "def pool_backward(dA, cache, mode = \"max\"):\n",
    "    \"\"\"\n",
    "    Implements the backward pass of the pooling layer\n",
    "    \n",
    "    Arguments:\n",
    "    dA -- gradient of cost with respect to the output of the pooling layer, same shape as A\n",
    "    cache -- cache output from the forward pass of the pooling layer, contains the layer's input and hparameters \n",
    "    mode -- the pooling mode you would like to use, defined as a string (\"max\" or \"average\")\n",
    "    \n",
    "    Returns:\n",
    "    dA_prev -- gradient of cost with respect to the input of the pooling layer, same shape as A_prev\n",
    "    \"\"\"\n",
    "\n",
    "    # Retrieve information from cache (≈1 line)\n",
    "    (A_prev, hparameters) = cache\n",
    "    \n",
    "    # Retrieve hyperparameters from \"hparameters\" (≈2 lines)\n",
    "    stride = hparameters[\"stride\"]\n",
    "    f = hparameters[\"f\"]\n",
    "    \n",
    "    # Retrieve dimensions from A_prev's shape and dA's shape (≈2 lines)\n",
    "    m, n_H_prev, n_W_prev, n_C_prev = A_prev.shape\n",
    "    m, n_H, n_W, n_C = dA.shape\n",
    "    \n",
    "    # Initialize dA_prev with zeros (≈1 line)\n",
    "    dA_prev = np.zeros(A_prev.shape)\n",
    "    \n",
    "    for i in range(m): # loop over the training examples\n",
    "        \n",
    "        # select training example from A_prev (≈1 line)\n",
    "        a_prev = A_prev[i]\n",
    "        \n",
    "        for h in range(n_H):                   # loop on the vertical axis\n",
    "            for w in range(n_W):               # loop on the horizontal axis\n",
    "                for c in range(n_C):           # loop over the channels (depth)\n",
    "        \n",
    "                    # Find the corners of the current \"slice\" (≈4 lines)\n",
    "                    vert_start = h\n",
    "                    vert_end = vert_start + f\n",
    "                    horiz_start = w\n",
    "                    horiz_end = horiz_start + f\n",
    "                    \n",
    "                    # Compute the backward propagation in both modes.\n",
    "                    if mode == \"max\":\n",
    "                        \n",
    "                        # Use the corners and \"c\" to define the current slice from a_prev (≈1 line)\n",
    "                        a_prev_slice = a_prev[vert_start:vert_end, horiz_start:horiz_end, c]\n",
    "                        \n",
    "                        # Create the mask from a_prev_slice (≈1 line)\n",
    "                        mask = create_mask_from_window(a_prev_slice)\n",
    "\n",
    "                        # Set dA_prev to be dA_prev + (the mask multiplied by the correct entry of dA) (≈1 line)\n",
    "                        dA_prev[i, vert_start: vert_end, horiz_start: horiz_end, c] += np.multiply(mask, dA[i, h, w, c])\n",
    "                        \n",
    "                    elif mode == \"average\":\n",
    "                        \n",
    "                        # Get the value da from dA (≈1 line)\n",
    "                        da = dA[i, h, w, c]\n",
    "                        \n",
    "                        # Define the shape of the filter as fxf (≈1 line)\n",
    "                        shape = (f, f)\n",
    "\n",
    "                        # Distribute it to get the correct slice of dA_prev. i.e. Add the distributed value of da. (≈1 line)\n",
    "                        dA_prev[i, vert_start: vert_end, horiz_start: horiz_end, c] += distribute_value(da, shape)\n",
    " \n",
    "\n",
    "    \n",
    "    # Making sure your output shape is correct\n",
    "    assert(dA_prev.shape == A_prev.shape)\n",
    "    \n",
    "    return dA_prev"
   ]
  },
  {
   "cell_type": "code",
   "execution_count": 35,
   "id": "74ef482e",
   "metadata": {},
   "outputs": [
    {
     "name": "stdout",
     "output_type": "stream",
     "text": [
      "(5, 4, 2, 2)\n",
      "(5, 5, 3, 2)\n",
      "mode = max\n",
      "mean of dA =  0.14571390272918056\n",
      "dA_prev1[1,1] =  [[ 0.          0.        ]\n",
      " [ 5.05844394 -1.68282702]\n",
      " [ 0.          0.        ]]\n",
      "\n",
      "mode = average\n",
      "mean of dA =  0.14571390272918056\n",
      "dA_prev2[1,1] =  [[ 0.08485462  0.2787552 ]\n",
      " [ 1.26461098 -0.25749373]\n",
      " [ 1.17975636 -0.53624893]]\n",
      "\u001b[92m All tests passed.\n"
     ]
    }
   ],
   "source": [
    "np.random.seed(1)\n",
    "A_prev = np.random.randn(5, 5, 3, 2)\n",
    "hparameters = {\"stride\" : 1, \"f\": 2}\n",
    "A, cache = pool_forward(A_prev, hparameters)\n",
    "print(A.shape)\n",
    "print(cache[0].shape)\n",
    "dA = np.random.randn(5, 4, 2, 2)\n",
    "\n",
    "dA_prev1 = pool_backward(dA, cache, mode = \"max\")\n",
    "print(\"mode = max\")\n",
    "print('mean of dA = ', np.mean(dA))\n",
    "print('dA_prev1[1,1] = ', dA_prev1[1, 1])  \n",
    "print()\n",
    "dA_prev2 = pool_backward(dA, cache, mode = \"average\")\n",
    "print(\"mode = average\")\n",
    "print('mean of dA = ', np.mean(dA))\n",
    "print('dA_prev2[1,1] = ', dA_prev2[1, 1]) \n",
    "\n",
    "assert type(dA_prev1) == np.ndarray, \"Wrong type\"\n",
    "assert dA_prev1.shape == (5, 5, 3, 2), f\"Wrong shape {dA_prev1.shape} != (5, 5, 3, 2)\"\n",
    "assert np.allclose(dA_prev1[1, 1], [[0, 0], \n",
    "                                    [ 5.05844394, -1.68282702],\n",
    "                                    [ 0, 0]]), \"Wrong values for mode max\"\n",
    "assert np.allclose(dA_prev2[1, 1], [[0.08485462,  0.2787552], \n",
    "                                    [1.26461098, -0.25749373], \n",
    "                                    [1.17975636, -0.53624893]]), \"Wrong values for mode average\"\n",
    "print(\"\\033[92m All tests passed.\")"
   ]
  },
  {
   "cell_type": "markdown",
   "id": "dd19b047",
   "metadata": {},
   "source": [
    "## How to use Same / Zero Padding with Keras?\n",
    "Building a model with Keras often consists of three steps:\n",
    "\n",
    "- Instantiating the model, e.g. with the Sequential API;\n",
    "- Stacking the layers on top of each other;\n",
    "- Compiling the model.\n",
    "\n",
    "So, for example, a simple model with three convolutional layers using the Keras Sequential API always starts with the Sequential instantiation:"
   ]
  },
  {
   "cell_type": "code",
   "execution_count": 36,
   "id": "4261d144",
   "metadata": {},
   "outputs": [
    {
     "name": "stdout",
     "output_type": "stream",
     "text": [
      "Model: \"sequential_2\"\n",
      "_________________________________________________________________\n",
      " Layer (type)                Output Shape              Param #   \n",
      "=================================================================\n",
      " conv2d_5 (Conv2D)           (None, 4, 28, 28, 32)     896       \n",
      "                                                                 \n",
      " conv2d_6 (Conv2D)           (None, 4, 28, 28, 64)     18496     \n",
      "                                                                 \n",
      " conv2d_7 (Conv2D)           (None, 4, 28, 28, 128)    73856     \n",
      "                                                                 \n",
      " flatten (Flatten)           (None, 401408)            0         \n",
      "                                                                 \n",
      " dense (Dense)               (None, 256)               102760704 \n",
      "                                                                 \n",
      "=================================================================\n",
      "Total params: 102,853,952\n",
      "Trainable params: 102,853,952\n",
      "Non-trainable params: 0\n",
      "_________________________________________________________________\n"
     ]
    }
   ],
   "source": [
    "import tensorflow as tf\n",
    "from tensorflow import keras\n",
    "from tensorflow.keras import layers\n",
    "from keras.models import Sequential\n",
    "from keras.layers.convolutional import Conv2D\n",
    "from keras.layers import Dense, Activation, Flatten\n",
    "# Create the model\n",
    "model = Sequential()\n",
    "#After which the Conv layers are added. \n",
    "#In our case, they are Conv2D again, with 'same' as the value \n",
    "#for padding for all three layers:\n",
    "model.add(Conv2D(32, kernel_size=(3, 3), activation='relu', input_shape=input_shape, padding='same'))\n",
    "model.add(Conv2D(64, kernel_size=(3, 3), activation='relu', padding='same'))\n",
    "model.add(Conv2D(128, kernel_size=(3, 3), activation='relu', padding='same'))\n",
    "#Then, like the \"valid\" padding scenario,\n",
    "#we add a Flatten layer and two Dense ones, \n",
    "#ending with a Softmax activated output:\n",
    "model.add(Flatten())\n",
    "model.add(Dense(256, activation='relu'))\n",
    "model.summary()"
   ]
  },
  {
   "cell_type": "markdown",
   "id": "126a89cf",
   "metadata": {},
   "source": [
    "**Congratulations**!  He have studied some aspects of convolution models."
   ]
  },
  {
   "cell_type": "markdown",
   "id": "a152731a",
   "metadata": {},
   "source": [
    "Additional References:\n",
    "- https://pyimagesearch.com/2018/12/31/keras-conv2d-and-convolutional-layers/\n",
    "- https://cnvrg.io/cnn-tensorflow/-\n",
    "- https://www.jessicayung.com/explaining-tensorflow-code-for-a-convolutional-neural-network/\n",
    "- https://victorzhou.com/blog/keras-cnn-tutorial/"
   ]
  },
  {
   "cell_type": "code",
   "execution_count": null,
   "id": "6b7d0875",
   "metadata": {},
   "outputs": [],
   "source": []
  }
 ],
 "metadata": {
  "kernelspec": {
   "display_name": "Python (pygta5)",
   "language": "python",
   "name": "pygta5"
  },
  "language_info": {
   "codemirror_mode": {
    "name": "ipython",
    "version": 3
   },
   "file_extension": ".py",
   "mimetype": "text/x-python",
   "name": "python",
   "nbconvert_exporter": "python",
   "pygments_lexer": "ipython3",
   "version": "3.7.0"
  }
 },
 "nbformat": 4,
 "nbformat_minor": 5
}
